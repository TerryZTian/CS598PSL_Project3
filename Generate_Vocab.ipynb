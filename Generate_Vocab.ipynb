{
  "nbformat": 4,
  "nbformat_minor": 0,
  "metadata": {
    "colab": {
      "provenance": []
    },
    "kernelspec": {
      "name": "python3",
      "display_name": "Python 3"
    },
    "language_info": {
      "name": "python"
    }
  },
  "cells": [
    {
      "cell_type": "code",
      "execution_count": 1,
      "metadata": {
        "id": "7kSzeB1Tdu-Q"
      },
      "outputs": [],
      "source": [
        "import numpy as np\n",
        "import pandas as pd\n",
        "import spacy\n",
        "from spacy.lang.en.stop_words import STOP_WORDS\n",
        "from spacy.lang.en import English\n",
        "from sklearn.feature_extraction.text import CountVectorizer,TfidfVectorizer\n",
        "from sklearn.metrics import accuracy_score, confusion_matrix, classification_report\n",
        "from sklearn.base import TransformerMixin\n",
        "from sklearn.pipeline import Pipeline\n",
        "# from sklearn.svm import LinearSVC\n",
        "from sklearn.linear_model import LogisticRegression,LogisticRegressionCV\n",
        "# from sklearn.ensemble import RandomForestClassifier\n",
        "from sklearn.metrics import roc_auc_score\n",
        "import warnings\n",
        "warnings.filterwarnings(\"ignore\")"
      ]
    },
    {
      "cell_type": "code",
      "source": [
        "with open(\"/content/drive/MyDrive/CS598PSL_Project3/vocab.txt\") as f:\n",
        "  vocab = f.readlines()\n",
        "vocab = [v[:-1].replace(\"_\",\" \") for v in vocab]"
      ],
      "metadata": {
        "id": "Wt5Y4hIkeMaR"
      },
      "execution_count": 2,
      "outputs": []
    },
    {
      "cell_type": "code",
      "source": [
        "i = 1\n",
        "folderName = '/content/drive/MyDrive/CS598PSL_Project3/split_' + str(i)\n",
        "train_filename = folderName + '/' + 'train.tsv'\n",
        "test_filename = folderName + '/' + 'test.tsv'\n",
        "test_y_filename = folderName + '/' + 'test_y.tsv'\n",
        "\n",
        "train_data = pd.read_csv(train_filename,sep='\\t', header=0)\n",
        "train_y = train_data['sentiment']\n",
        "train_features = train_data.copy()\n",
        "train_features = train_features.drop(['sentiment'],axis=1)\n",
        "\n",
        "test_data = pd.read_csv(test_filename,sep='\\t', header=0)\n",
        "test_features = test_data['review']\n",
        "    # print(test_data.head(5))\n",
        "    # print(test_data.shape)\n",
        "test_y_data = pd.read_csv(test_y_filename,sep='\\t', header=0)"
      ],
      "metadata": {
        "id": "evz1BZuhd0g3"
      },
      "execution_count": 3,
      "outputs": []
    },
    {
      "cell_type": "code",
      "source": [
        "def clean_text(text):     \n",
        "    return text.strip().lower()"
      ],
      "metadata": {
        "id": "ZW6oxq_yeCLC"
      },
      "execution_count": 4,
      "outputs": []
    },
    {
      "cell_type": "code",
      "source": [
        "vectorizer = CountVectorizer(ngram_range=(1, 4),vocabulary=vocab) \n",
        "#tfvectorizer = TfidfVectorizer(ngram_range=(1, 4))\n",
        "classifier = LogisticRegression(penalty='l2', solver='liblinear',C=0.14)\n",
        "#classifier = LogisticRegression(penalty='l1')\n",
        "LRmodel = Pipeline([('vectorizer', vectorizer),\n",
        "                      ('classifier', classifier)])\n",
        "\n",
        "test_Y = test_y_data['sentiment']\n",
        "LRmodel.fit(train_features['review'],train_y)\n",
        "LRpred = LRmodel.predict_proba(test_features)\n",
        "LRpred = LRpred[:,1]\n",
        "result = LRmodel.predict(test_features)\n",
        "print(f'Accuracy: {accuracy_score(test_Y,result)*100}%')\n",
        "auc = roc_auc_score(test_Y, LRpred,average='micro')\n",
        "print(f'AUC: {auc*100}%')\n",
        "test = LRmodel['vectorizer'].get_feature_names_out()\n",
        "new_vocab = test[LRmodel['classifier'].coef_[0]!=0]"
      ],
      "metadata": {
        "colab": {
          "base_uri": "https://localhost:8080/"
        },
        "id": "_2N8obGReEEM",
        "outputId": "7bcfe9d1-49e8-4fe0-8aa0-173ac34cc5fa"
      },
      "execution_count": 5,
      "outputs": [
        {
          "output_type": "stream",
          "name": "stdout",
          "text": [
            "Accuracy: 90.28%\n",
            "AUC: 96.31678089557296%\n"
          ]
        }
      ]
    },
    {
      "cell_type": "code",
      "source": [
        "np.savetxt(\"final_vocab.txt\",new_vocab.astype(str),fmt='%s') "
      ],
      "metadata": {
        "id": "HCx_FFoCfmiL"
      },
      "execution_count": 13,
      "outputs": []
    },
    {
      "cell_type": "code",
      "source": [],
      "metadata": {
        "id": "yHSLXBl1gaba"
      },
      "execution_count": null,
      "outputs": []
    }
  ]
}